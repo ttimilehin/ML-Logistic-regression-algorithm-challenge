{
 "cells": [
  {
   "cell_type": "markdown",
   "metadata": {},
   "source": [
    "# Logistic Regression"
   ]
  },
  {
   "cell_type": "markdown",
   "metadata": {},
   "source": [
    "### Building a Logistic Regression model from scratch"
   ]
  },
  {
   "cell_type": "code",
   "execution_count": 1,
   "metadata": {
    "collapsed": true
   },
   "outputs": [],
   "source": [
    "import numpy as np"
   ]
  },
  {
   "cell_type": "code",
   "execution_count": 2,
   "metadata": {},
   "outputs": [],
   "source": [
    "class LogisticRegression:\n",
    "    def _init_(self, lr=0.001, n_iters=1000):     \n",
    "        self.lr = lr               #lr is the learning rate                   \n",
    "        self.n_iters = n_iters     #n_iters is the number of iterations\n",
    "        self.weights = None        #the wieght\n",
    "        self.bias = None           #the bias"
   ]
  },
  {
   "cell_type": "markdown",
   "metadata": {},
   "source": [
    "## Sigmoid Function\n",
    "#### Unlike in Linear Regression, the sigmoid function will be applied on the linear regression model to change its continous form to probabilistic ones. \n",
    "\n",
    "#### f(x) =  1/(1 + e^(-(x)) )"
   ]
  },
  {
   "cell_type": "code",
   "execution_count": 3,
   "metadata": {
    "collapsed": true
   },
   "outputs": [],
   "source": [
    "    def _sigmoid(self, x):\n",
    "        return 1/(1 + np.exp(-x))"
   ]
  },
  {
   "cell_type": "markdown",
   "metadata": {},
   "source": [
    "#### linear function for modelling linear regression\n",
    "#### f(w,b) = wx + b,\n",
    "where w is the weight\n",
    "and b is the bias"
   ]
  },
  {
   "cell_type": "markdown",
   "metadata": {},
   "source": [
    "### Fitting/Training the Model"
   ]
  },
  {
   "cell_type": "code",
   "execution_count": 4,
   "metadata": {
    "collapsed": true
   },
   "outputs": [],
   "source": [
    "    def fit(self, X, y):\n",
    "        #initializing parameters\n",
    "        n_samples, n_features = X.shape\n",
    "        self.weights = np.zeros(n_features)\n",
    "        self.bias = 0     \n",
    "        \n",
    "        for _ in range(self.n_iters):\n",
    "            linearRegression_model = np.dot(X, self.weights) + self.bias\n",
    "            y_pred = self._sigmoid(linearRegression_model)\n",
    "            \n",
    "            dw = (1 / n_samples) * np.dot(X.T, (y_pred - y))\n",
    "            db = (1 / n_samples) * np.sum(y_pred - y)\n",
    "            # dw is the derivative of the weights\n",
    "            # db is the derivative of the bias\n",
    "            \n",
    "            self.weights -= self.lr * dw\n",
    "            self.bias -= self.lr * db"
   ]
  },
  {
   "cell_type": "markdown",
   "metadata": {},
   "source": [
    "### Predicting with the model"
   ]
  },
  {
   "cell_type": "code",
   "execution_count": 5,
   "metadata": {},
   "outputs": [],
   "source": [
    "    def predict(self, X):\n",
    "        linearRegression_model = np.dot(X, self.weights) + self.bias\n",
    "        y_pred = self._sigmoid(linearRegression_model)\n",
    "        y_pred_classification = [1 if i > 0.5 else 0 for i in y_pred]\n",
    "        return y_pred_classification"
   ]
  }
 ],
 "metadata": {
  "kernelspec": {
   "display_name": "Python 3",
   "language": "python",
   "name": "python3"
  },
  "language_info": {
   "codemirror_mode": {
    "name": "ipython",
    "version": 3
   },
   "file_extension": ".py",
   "mimetype": "text/x-python",
   "name": "python",
   "nbconvert_exporter": "python",
   "pygments_lexer": "ipython3",
   "version": "3.6.3"
  }
 },
 "nbformat": 4,
 "nbformat_minor": 2
}